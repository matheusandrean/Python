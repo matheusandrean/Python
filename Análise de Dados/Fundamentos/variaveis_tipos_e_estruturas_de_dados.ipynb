{
 "cells": [
  {
   "cell_type": "markdown",
   "metadata": {},
   "source": [
    "# Fundamentos da Linguagem Python"
   ]
  },
  {
   "cell_type": "markdown",
   "metadata": {},
   "source": [
    "### Identação(margem ou recuo) serve para ressaltar ou definir a hierarquia daquele código. Utilizamos 1 tab ou 4 espaços."
   ]
  },
  {
   "cell_type": "code",
   "execution_count": null,
   "metadata": {},
   "outputs": [],
   "source": [
    "# Exemplo de identação hierarquica.\n",
    "print(nivel 1) #primeiro nível hierárquivo\n",
    "\n",
    "if(true):\n",
    "    print(nível 2) '''segundo nível hierárquico, apontando que o print encontra-se \n",
    "hierarquicamente vinculado ao if.'''"
   ]
  },
  {
   "cell_type": "markdown",
   "metadata": {},
   "source": [
    "# Números e Operações Matemáticas"
   ]
  },
  {
   "cell_type": "markdown",
   "metadata": {},
   "source": [
    "Python possui 2 tipos de números principais:\n",
    "\n",
    "int > números inteiros, positivos ou negativos, EX: -7 ou 7\n",
    "<br>\n",
    "float > números fracionários, positivos ou negativos. EX -7.1 e 7.1\n",
    "<br>\n",
    "Para sabermos qual o tipo de dados que estamos imputando podemos utilizar o type()."
   ]
  },
  {
   "cell_type": "code",
   "execution_count": 3,
   "metadata": {},
   "outputs": [
    {
     "name": "stdout",
     "output_type": "stream",
     "text": [
      "o 1 um é <class 'int'> e o 1.0 é <class 'float'>\n"
     ]
    }
   ],
   "source": [
    "valores = (1,1.0)\n",
    "\n",
    "valor1 = int(valores[0])\n",
    "valor2 = float(valores[1]) \n",
    "\n",
    "print(f'o {valor1} um é {type(valor1)} e o {valor2} é {type(valor2)}')"
   ]
  }
 ],
 "metadata": {
  "kernelspec": {
   "display_name": "Python 3.9.12 ('base')",
   "language": "python",
   "name": "python3"
  },
  "language_info": {
   "codemirror_mode": {
    "name": "ipython",
    "version": 3
   },
   "file_extension": ".py",
   "mimetype": "text/x-python",
   "name": "python",
   "nbconvert_exporter": "python",
   "pygments_lexer": "ipython3",
   "version": "3.9.12"
  },
  "orig_nbformat": 4,
  "vscode": {
   "interpreter": {
    "hash": "be5b0f2181d75f287725a799bf065dbc8e5e74db371c638ce87975f7cb64d981"
   }
  }
 },
 "nbformat": 4,
 "nbformat_minor": 2
}
